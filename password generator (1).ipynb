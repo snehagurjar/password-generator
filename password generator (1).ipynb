{
 "cells": [
  {
   "cell_type": "code",
   "execution_count": 2,
   "id": "213cb084",
   "metadata": {},
   "outputs": [
    {
     "name": "stdout",
     "output_type": "stream",
     "text": [
      "Enter password length\n",
      "9\n",
      "Your password is: \n",
      "m&X;3q#bL\n"
     ]
    }
   ],
   "source": [
    "import string\n",
    "import random\n",
    "\n",
    "if __name__ == \"__main__\":\n",
    "    s1 = string.ascii_lowercase\n",
    "    # print(s1)\n",
    "    s2 = string.ascii_uppercase\n",
    "    # print(s2)\n",
    "    s3 = string.digits\n",
    "    # print(s3)\n",
    "    s4 = string.punctuation\n",
    "    # print(s4)\n",
    "    plen = int(input(\"Enter password length\\n\")) #Todo1: Handle Gibberish\n",
    "    s = []\n",
    "    s.extend(list(s1))\n",
    "    s.extend(list(s2))\n",
    "    s.extend(list(s3))\n",
    "    s.extend(list(s4))\n",
    "    # print(s)\n",
    "    # random.shuffle(s)\n",
    "    # print(s)\n",
    "    print(\"Your password is: \")\n",
    "    print(\"\".join(random.sample(s, plen)))\n",
    "    # print(\"\".join(s[0:plen]))\n",
    "\n"
   ]
  },
  {
   "cell_type": "code",
   "execution_count": null,
   "id": "8fe41756",
   "metadata": {},
   "outputs": [],
   "source": []
  }
 ],
 "metadata": {
  "kernelspec": {
   "display_name": "Python 3 (ipykernel)",
   "language": "python",
   "name": "python3"
  },
  "language_info": {
   "codemirror_mode": {
    "name": "ipython",
    "version": 3
   },
   "file_extension": ".py",
   "mimetype": "text/x-python",
   "name": "python",
   "nbconvert_exporter": "python",
   "pygments_lexer": "ipython3",
   "version": "3.11.4"
  }
 },
 "nbformat": 4,
 "nbformat_minor": 5
}
